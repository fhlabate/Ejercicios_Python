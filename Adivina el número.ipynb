{
 "cells": [
  {
   "cell_type": "code",
   "execution_count": null,
   "id": "53b5d809-ce1f-4836-b2fc-b8b5139245a2",
   "metadata": {
    "tags": []
   },
   "outputs": [],
   "source": [
    "#Adivina el Número:\n",
    "#Desarrolla un juego donde la computadora \"elige\" un número aleatorio entre 1 y 100 y le pide al usuario que lo adivine. \n",
    "#El programa debe dar pistas al usuario indicando si el número ingresado es mayor o menor que el número secreto. \n",
    "#Continúa pidiendo al usuario que adivine hasta que acierte el número.\n",
    "\n",
    "import random #Módulo random de la biblioteca estándar.\n",
    "\n",
    "global num #defino num como una variable global\n",
    "num = random.randint(1, 100) #Elección de un número aleatorio entre 1 y 100\n",
    "\n",
    "while True:\n",
    "    user = int(input(\"Adivine el número del 1 al 100: \")) #Solicito al usuario un número entre 1 y 100.\n",
    "    \n",
    "    if user < num:\n",
    "        print(\"El número es mayor. ¡Intenta un número más grande!\")\n",
    "    elif user > num:\n",
    "        print(\"El número es menor. ¡Intenta un número más pequeño!\")\n",
    "    else:\n",
    "        print(\"¡Has adivinado! El número era:\", num)\n",
    "        break"
   ]
  },
  {
   "cell_type": "code",
   "execution_count": null,
   "id": "03bc4da3-fb29-4012-bb05-d929eddec518",
   "metadata": {},
   "outputs": [],
   "source": []
  }
 ],
 "metadata": {
  "kernelspec": {
   "display_name": "Python 3 (ipykernel)",
   "language": "python",
   "name": "python3"
  },
  "language_info": {
   "codemirror_mode": {
    "name": "ipython",
    "version": 3
   },
   "file_extension": ".py",
   "mimetype": "text/x-python",
   "name": "python",
   "nbconvert_exporter": "python",
   "pygments_lexer": "ipython3",
   "version": "3.11.3"
  }
 },
 "nbformat": 4,
 "nbformat_minor": 5
}
