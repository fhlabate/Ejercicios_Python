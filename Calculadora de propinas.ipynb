<<<<<<< HEAD
{
 "cells": [
  {
   "cell_type": "code",
   "execution_count": null,
   "id": "b2337ed8-0e21-4e95-b3a2-09bdda601f84",
   "metadata": {},
   "outputs": [],
   "source": [
    "a"
   ]
  },
  {
   "cell_type": "code",
   "execution_count": null,
   "id": "fe9bee13-d639-4bfd-aade-b10c5f90748c",
   "metadata": {},
   "outputs": [],
   "source": [
=======
>>>>>>> ac3a47f6aa9c1be13f51bc46843b2455a3d40d33
    "#Ejercicio n°.1 \"Calculadora de Propinas\"\n",
    "\n",
    "#Crea un programa que calcule la cantidad de propina a dejar en un restaurante. \n",
    "#Pide al usuario que ingrese el total de la factura y el porcentaje de propina que desea dejar. \n",
    "#El programa debe calcular la cantidad de propina y mostrar el total a pagar, incluyendo la propina.\n",
    "\n",
    "#************************************************************************************************************************#\n",
    "#\"Calculadora de Propinas\"\n",
    "\n",
    "total = None #Incializo variable sin un valor asignado\n",
    "porcentaje = None\n",
    "\n",
    "def obtener_total():\n",
    "    global total  # Indicamos que 'total' se refiere a la variable global\n",
    "    \n",
    "    while True:\n",
    "        try:\n",
    "            total = input(\"Ingrese el total de la factura: \") #Solicito al usuario que ingrese el total de la factura.\n",
    "            total = float(total)  # Intenta convertir la entrada del total de la factura a un número flotante\n",
    "            break  # Si la conversión tiene éxito, sale del bucle\n",
    "        \n",
    "        except ValueError:\n",
    "            print(\"Por favor, ingrese un número válido para el total de la factura.\")  \n",
    "                \n",
    "    return total # Retornamos la variable \"total\" una vez que se ingresó un valor válido.\n",
    "    \n",
    "monto_ingresado = obtener_total()  # Llamamos a la función y guardamos el valor retornado en monto_ingresado\n",
    "        \n",
    "def obtener_propina():\n",
    "    global porcentaje  # Indicamos que 'porcentaje' se refiere a la variable global\n",
    "\n",
    "    while True:\n",
    "        try:            \n",
    "            porcentaje = input(\"Ingrese el porcentaje que quiere dejar de propina: \") #Solicito al usuario que ingrese el poncentaje a dejar de propina.\n",
    "            porcentaje = float(porcentaje) # Intenta convertir la entrada de porcentaje a un número flotante\n",
    "            break  # Si la conversión tiene éxito, sale del bucle \n",
    "        \n",
    "        except ValueError:\n",
    "            print(\"Por favor, ingrese un número válido para el porcentaje de la propina.\")\n",
    "        \n",
    "    return porcentaje # Retornamos la variable \"porcentaje\" una vez que se ingresó un valor válido.\n",
    "\n",
    "porcentaje_ingresado = obtener_propina()\n",
    "\n",
    "#Cálculos\n",
    "propina = (porcentaje_ingresado * monto_ingresado) / 100\n",
    "pagar = monto_ingresado + propina\n",
    "#Presentación de resultados\n",
    "print(\"La propina a dejar será de:\" ,propina, \"€\")\n",
    "print(\"El total a pagar (factura + propina) será de:\" ,pagar, \"€\")"
   ]
  },
  {
   "cell_type": "code",
   "execution_count": null,
   "id": "973c1c17-a823-4c24-93b0-ecf292636244",
   "metadata": {},
   "outputs": [],
   "source": []
  }
 ],
 "metadata": {
  "kernelspec": {
   "display_name": "Python 3 (ipykernel)",
   "language": "python",
   "name": "python3"
  },
  "language_info": {
   "codemirror_mode": {
    "name": "ipython",
    "version": 3
   },
   "file_extension": ".py",
   "mimetype": "text/x-python",
   "name": "python",
   "nbconvert_exporter": "python",
   "pygments_lexer": "ipython3",
   "version": "3.11.3"
  }
 },
 "nbformat": 4,
 "nbformat_minor": 5
}
