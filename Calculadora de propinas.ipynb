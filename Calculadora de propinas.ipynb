{
 "cells": [
  {
   "cell_type": "code",
   "execution_count": 15,
   "id": "fe9bee13-d639-4bfd-aade-b10c5f90748c",
   "metadata": {},
   "outputs": [
    {
     "name": "stdin",
     "output_type": "stream",
     "text": [
      "Ingrese el total de la factura:  100\n",
      "Ingrese el porcentaje que quiere dejar de propina:  10\n"
     ]
    },
    {
     "name": "stdout",
     "output_type": "stream",
     "text": [
      "La propina a dejar será de: 10.0 €\n",
      "El total a pagar (factura + propina) será de: 110.0 €\n"
     ]
    }
   ],
   "source": [
    "#Ejercicio n°.1 \"Calculadora de Propinas\"\n",
    "\n",
    "#Crea un programa que calcule la cantidad de propina a dejar en un restaurante. \n",
    "#Pide al usuario que ingrese el total de la factura y el porcentaje de propina que desea dejar. \n",
    "#El programa debe calcular la cantidad de propina y mostrar el total a pagar, incluyendo la propina.\n",
    "\n",
    "#************************************************************************************************************************#\n",
    "#\"Calculadora de Propinas\"\n",
    "\n",
    "total = 0 #Incializo variable total en '0'\n",
    "porcentaje = 0 #Incializo porcentaje en '0'\n",
    "\n",
    "total = float(input(\"Ingrese el total de la factura: \")) #Solicito al usuario que ingrese el total de la factura.\n",
    "porcentaje = float(input(\"Ingrese el porcentaje que quiere dejar de propina: \",)) #Solicito al usuario que ingrese el poncentaje a dejar de propina.\n",
    "\n",
    "propina = (porcentaje * total) / 100\n",
    "pagar = total + propina\n",
    "\n",
    "print(\"La propina a dejar será de:\" ,propina, \"€\")\n",
    "print(\"El total a pagar (factura + propina) será de:\" ,pagar, \"€\")"
   ]
  },
  {
   "cell_type": "code",
   "execution_count": null,
   "id": "676b904a-b4b3-4d5f-baa1-53f60f4ca19e",
   "metadata": {},
   "outputs": [],
   "source": []
  }
 ],
 "metadata": {
  "kernelspec": {
   "display_name": "Python 3 (ipykernel)",
   "language": "python",
   "name": "python3"
  },
  "language_info": {
   "codemirror_mode": {
    "name": "ipython",
    "version": 3
   },
   "file_extension": ".py",
   "mimetype": "text/x-python",
   "name": "python",
   "nbconvert_exporter": "python",
   "pygments_lexer": "ipython3",
   "version": "3.10.9"
  }
 },
 "nbformat": 4,
 "nbformat_minor": 5
}
