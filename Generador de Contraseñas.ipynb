{
 "cells": [
  {
   "cell_type": "code",
   "execution_count": null,
   "id": "37691383-2af2-49ea-9a9d-830beb5c0587",
   "metadata": {},
   "outputs": [],
   "source": [
    "#Generador de Contraseñas:\n",
    "#Crea un generador de contraseñas que genere una contraseña aleatoria.\n",
    "#Pide al usuario que ingrese la longitud deseada para la contraseña y \n",
    "#asegúrate de incluir una combinación de letras mayúsculas, minúsculas, números y caracteres especiales.\n",
    "\n",
    "import secrets #Si hablamos de contraseñas, el módulo random no es el más seguro de todos. Por eso utilizo secrets.\n",
    "import string\n",
    "\n",
    "\n",
    "cantidad = int(input('Ingrese la longitud deseada para su contraseña')) #Solicito al usuario el ingreso de un número entero.\n",
    "\n",
    "#Defino cadenas tres cadenas independientes para letras, números y caracteres especiales.\n",
    "letras = string.ascii_letters\n",
    "digitos = string.digits\n",
    "caracteres_especiales = string.punctuation\n",
    "\n",
    "#Unifico a una sola cadena concatenando las cuatro tres independientes.\n",
    "caracteres_para_contrasena = letras + digitos + caracteres_especiales\n",
    "\n",
    "pwd = '' #inicializo pwd como un caracter vacío\n",
    "for i in range(cantidad): #Este bucle correrá tantas veces como cantidad ingrese el usuario\n",
    "  pwd +=secrets.choice(caracteres_para_contrasena) #\"+=\": Concatena o acumula valores. Como si hiciese contrasena = contrasena + secrects.coince()\n",
    "\n",
    "print(\"La contraseña de\",cantidad,\"digitos generada es:\",pwd)\n"
   ]
  }
 ],
 "metadata": {
  "kernelspec": {
   "display_name": "Python 3 (ipykernel)",
   "language": "python",
   "name": "python3"
  },
  "language_info": {
   "codemirror_mode": {
    "name": "ipython",
    "version": 3
   },
   "file_extension": ".py",
   "mimetype": "text/x-python",
   "name": "python",
   "nbconvert_exporter": "python",
   "pygments_lexer": "ipython3",
   "version": "3.10.9"
  }
 },
 "nbformat": 4,
 "nbformat_minor": 5
}
