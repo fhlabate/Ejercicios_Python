{
 "cells": [
  {
   "cell_type": "code",
   "execution_count": 16,
   "id": "3d4ab702-c5fb-4e36-9a33-fb28dfdedaa6",
   "metadata": {},
   "outputs": [
    {
     "name": "stdin",
     "output_type": "stream",
     "text": [
      "Ingrese el primer número 1\n",
      "ingrese el segundo número 2\n"
     ]
    },
    {
     "name": "stdout",
     "output_type": "stream",
     "text": [
      "El segundo número es mayor que el primero\n"
     ]
    }
   ],
   "source": [
    "#Ingresa dos variables numéricas e indica cual de las dos es más grande\n",
    "\n",
    "num1 = float(input(\"Ingrese el primer número\"))\n",
    "num2 = float(input(\"ingrese el segundo número\"))\n",
    "\n",
    "if num1 == num2:\n",
    "    print(\"Los números ingresados son iguales\")\n",
    "elif num1 > num2:\n",
    "    print(\"El primer número es mayor que el segundo\")\n",
    "else:\n",
    "    print(\"El segundo número es mayor que el primero\")\n",
    "\n",
    "#Agregar validación de números."
   ]
  },
  {
   "cell_type": "code",
   "execution_count": null,
   "id": "957650dd-f37d-4456-96fa-400be941c0b5",
   "metadata": {},
   "outputs": [],
   "source": []
  }
 ],
 "metadata": {
  "kernelspec": {
   "display_name": "Python 3 (ipykernel)",
   "language": "python",
   "name": "python3"
  },
  "language_info": {
   "codemirror_mode": {
    "name": "ipython",
    "version": 3
   },
   "file_extension": ".py",
   "mimetype": "text/x-python",
   "name": "python",
   "nbconvert_exporter": "python",
   "pygments_lexer": "ipython3",
   "version": "3.10.9"
  }
 },
 "nbformat": 4,
 "nbformat_minor": 5
}
